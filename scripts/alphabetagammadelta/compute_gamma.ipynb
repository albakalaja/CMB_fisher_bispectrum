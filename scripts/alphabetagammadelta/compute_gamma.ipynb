{
 "cells": [
  {
   "cell_type": "code",
   "execution_count": 1,
   "metadata": {
    "scrolled": true
   },
   "outputs": [
    {
     "name": "stdout",
     "output_type": "stream",
     "text": [
      "Populating the interactive namespace from numpy and matplotlib\n",
      "Using CAMB 1.1.1 installed at /home/alba/anaconda2/envs/ipykernel_py3/lib/python3.8/site-packages/camb\n"
     ]
    }
   ],
   "source": [
    "#%matplotlib inline\n",
    "#%config InlineBackend.figure_format = 'retina'\n",
    "import sys, platform, os\n",
    "import matplotlib\n",
    "from matplotlib import pyplot as plt\n",
    "import numpy as np\n",
    "import pandas as pd\n",
    "from scipy import integrate\n",
    "from scipy import optimize\n",
    "from scipy import interpolate\n",
    "from scipy import special\n",
    "\n",
    "# Parallelizing\n",
    "import multiprocessing as mp\n",
    "import numba\n",
    "from numba import njit, prange\n",
    "import joblib\n",
    "from joblib import Parallel, delayed\n",
    "#----------------------------------------------\n",
    "\n",
    "from mpl_toolkits import mplot3d\n",
    "from matplotlib import cm\n",
    "from mpl_toolkits.axes_grid1 import make_axes_locatable \n",
    "%pylab inline \n",
    "%config InlineBackend.figure_format = 'svg' \n",
    "mpl.rcParams.update(mpl.rcParamsDefault)\n",
    "plt.rcParams['mathtext.fontset'] = 'cm'\n",
    "#Assume installed from github using \"git clone --recursive https://github.com/cmbant/CAMB.git\"\n",
    "#This file is then in the docs folders\n",
    "#camb_path = os.path.realpath(os.path.join(os.getcwd(),'..'))\n",
    "#sys.path.insert(0,camb_path)\n",
    "import camb\n",
    "from camb import model, initialpower\n",
    "print('Using CAMB %s installed at %s'%(camb.__version__,os.path.dirname(camb.__file__)))"
   ]
  },
  {
   "cell_type": "code",
   "execution_count": 2,
   "metadata": {
    "scrolled": true
   },
   "outputs": [],
   "source": [
    "# Load file with transfers\n",
    "cmb_transfer_CAMB = pd.read_csv('cmb_transfer_TT_EE.txt', sep=\" \", header=None)\n",
    "cmb_transfer_CAMB.columns=['ell','k','dk','gT','gP']"
   ]
  },
  {
   "cell_type": "code",
   "execution_count": 3,
   "metadata": {},
   "outputs": [],
   "source": [
    "# Selectes the values of ell in the dataframe\n",
    "ell_values_CAMB = cmb_transfer_CAMB['ell'].unique()"
   ]
  },
  {
   "cell_type": "code",
   "execution_count": null,
   "metadata": {},
   "outputs": [],
   "source": []
  },
  {
   "cell_type": "code",
   "execution_count": 121,
   "metadata": {},
   "outputs": [],
   "source": [
    "# Compute r_sampling according to Table 1 of Liguori et al. PRD, 76, 105016 (2007)\n",
    "tau0 = 14142.0762\n",
    "r = tau0 + 500.0 \n",
    "r_count = 0.0\n",
    "r_values = [r] #starting from r\n",
    "\n",
    "while r > r_sample:  \n",
    "    r_count+=1.0\n",
    "    if r_count <= 450.0:\n",
    "        r_sample = 3.5 #sample densely during recombination\n",
    "    elif r_count <= 485.0:\n",
    "        r_sample = 105.0\n",
    "    elif r_count <= 515.0:\n",
    "        r_sample = 10.0 #sample densely during reionization\n",
    "    else:\n",
    "        r_sample = 105.0\n",
    "    r-=r_sample\n",
    "    r_values.append(r)"
   ]
  },
  {
   "cell_type": "markdown",
   "metadata": {},
   "source": [
    "$$\\gamma(\\ell, r) =\\frac{2}{\\pi}\\int \\mathrm{d}k k^2 g_{T\\ell}(k)j_\\ell(k r)P(k)^{1/3}$$"
   ]
  },
  {
   "cell_type": "code",
   "execution_count": 19,
   "metadata": {},
   "outputs": [],
   "source": [
    "def compute_gamma(ell,\n",
    "                 values_of_r,\n",
    "                 transfer_function,\n",
    "                 source):\n",
    "    \n",
    "    A_s = 2.1056e-9\n",
    "    n_s = 0.9665\n",
    "    k_pivot = 0.05\n",
    "    \n",
    "    reduced_df = transfer_function[transfer_function['ell'] == ell]\n",
    "    array_gamma_r = np.zeros(len(values_of_r),'float64')\n",
    "        \n",
    "    for index_r in range(len(values_of_r)):\n",
    "        array_gamma_r[index_r] = np.power(16.0*A_s/np.pi,1.0/3.0) * \\\n",
    "                                integrate.trapz(reduced_df[source].values*special.spherical_jn(int(ell),\n",
    "                                                reduced_df['k'].values*values_of_r[index_r])*\\\n",
    "                                                reduced_df['k'].values*\n",
    "                                                np.power(reduced_df['k'].values/k_pivot, (n_s-1.0)/3.0),\n",
    "                                                x = reduced_df['k'].values)\n",
    "        \n",
    "    return array_gamma_r"
   ]
  },
  {
   "cell_type": "code",
   "execution_count": 20,
   "metadata": {
    "scrolled": true
   },
   "outputs": [
    {
     "name": "stdout",
     "output_type": "stream",
     "text": [
      "CPU times: user 28.5 s, sys: 0 ns, total: 28.5 s\n",
      "Wall time: 28.5 s\n"
     ]
    }
   ],
   "source": [
    "gamma_function_temp = Parallel(n_jobs=n_cpu)(delayed(compute_gamma)(ell,r_values,cmb_transfer_CAMB, 'gT') \n",
    "                                             for ell in ell_values_CAMB.astype(int))"
   ]
  },
  {
   "cell_type": "code",
   "execution_count": 21,
   "metadata": {
    "scrolled": true
   },
   "outputs": [
    {
     "name": "stdout",
     "output_type": "stream",
     "text": [
      "CPU times: user 28.4 s, sys: 19 µs, total: 28.4 s\n",
      "Wall time: 28.4 s\n"
     ]
    }
   ],
   "source": [
    "gamma_function_pol = Parallel(n_jobs=n_cpu)(delayed(compute_gamma)(ell,r_values,cmb_transfer_CAMB, 'gP') \n",
    "                                            for ell in ell_values_CAMB.astype(int))"
   ]
  },
  {
   "cell_type": "code",
   "execution_count": null,
   "metadata": {},
   "outputs": [],
   "source": [
    "np.savetxt('gamma_function_lmax5000_T.txt',gamma_function_temp)"
   ]
  },
  {
   "cell_type": "code",
   "execution_count": null,
   "metadata": {},
   "outputs": [],
   "source": [
    "np.savetxt('gamma_function_lmax5000_P.txt',gamma_function_pol)"
   ]
  },
  {
   "cell_type": "code",
   "execution_count": null,
   "metadata": {},
   "outputs": [],
   "source": []
  }
 ],
 "metadata": {
  "kernelspec": {
   "display_name": "Python 3",
   "language": "python",
   "name": "python3"
  },
  "language_info": {
   "codemirror_mode": {
    "name": "ipython",
    "version": 3
   },
   "file_extension": ".py",
   "mimetype": "text/x-python",
   "name": "python",
   "nbconvert_exporter": "python",
   "pygments_lexer": "ipython3",
   "version": "3.8.1"
  },
  "latex_envs": {
   "LaTeX_envs_menu_present": true,
   "autoclose": false,
   "autocomplete": true,
   "bibliofile": "biblio.bib",
   "cite_by": "apalike",
   "current_citInitial": 1,
   "eqLabelWithNumbers": true,
   "eqNumInitial": 1,
   "hotkeys": {
    "equation": "Ctrl-E",
    "itemize": "Ctrl-I"
   },
   "labels_anchors": false,
   "latex_user_defs": false,
   "report_style_numbering": false,
   "user_envs_cfg": false
  },
  "toc": {
   "base_numbering": 1,
   "nav_menu": {},
   "number_sections": true,
   "sideBar": true,
   "skip_h1_title": false,
   "title_cell": "Table of Contents",
   "title_sidebar": "Contents",
   "toc_cell": false,
   "toc_position": {},
   "toc_section_display": true,
   "toc_window_display": false
  }
 },
 "nbformat": 4,
 "nbformat_minor": 2
}
